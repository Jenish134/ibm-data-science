{
  "metadata": {
    "language_info": {
      "codemirror_mode": {
        "name": "python",
        "version": 3
      },
      "file_extension": ".py",
      "mimetype": "text/x-python",
      "name": "python",
      "nbconvert_exporter": "python",
      "pygments_lexer": "ipython3",
      "version": "3.8"
    },
    "kernelspec": {
      "name": "python",
      "display_name": "Python (Pyodide)",
      "language": "python"
    }
  },
  "nbformat_minor": 4,
  "nbformat": 4,
  "cells": [
    {
      "cell_type": "markdown",
      "source": "<h1>My Jupyter Notebook on IBM Watson Studio</h1>",
      "metadata": {}
    },
    {
      "cell_type": "markdown",
      "source": "<b>Jenish Dudhat</b>",
      "metadata": {}
    },
    {
      "cell_type": "markdown",
      "source": "I am interested in data science because i used to work with the data and i love the analysis of it.",
      "metadata": {}
    },
    {
      "cell_type": "markdown",
      "source": "<h3>This is code to sum two varaibles</h3>",
      "metadata": {}
    },
    {
      "cell_type": "code",
      "source": "def fsum(a,b):\n    return a+b\n\nprint(fsum(5,6))",
      "metadata": {
        "trusted": true
      },
      "execution_count": 1,
      "outputs": [
        {
          "name": "stdout",
          "text": "11\n",
          "output_type": "stream"
        }
      ]
    }
  ]
}